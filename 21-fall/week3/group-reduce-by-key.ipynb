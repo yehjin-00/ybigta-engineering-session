{
 "cells": [
  {
   "cell_type": "code",
   "execution_count": 1,
   "metadata": {},
   "outputs": [
    {
     "data": {
      "text/html": [
       "\n",
       "        <div>\n",
       "            <p><b>SparkContext</b></p>\n",
       "\n",
       "            <p><a href=\"http://ip-172-31-49-8.ec2.internal:4040\">Spark UI</a></p>\n",
       "\n",
       "            <dl>\n",
       "              <dt>Version</dt>\n",
       "                <dd><code>v2.4.8</code></dd>\n",
       "              <dt>Master</dt>\n",
       "                <dd><code>local[*]</code></dd>\n",
       "              <dt>AppName</dt>\n",
       "                <dd><code>PySparkShell</code></dd>\n",
       "            </dl>\n",
       "        </div>\n",
       "        "
      ],
      "text/plain": [
       "<SparkContext master=local[*] appName=PySparkShell>"
      ]
     },
     "execution_count": 1,
     "metadata": {},
     "output_type": "execute_result"
    }
   ],
   "source": [
    "sc"
   ]
  },
  {
   "cell_type": "code",
   "execution_count": 14,
   "metadata": {},
   "outputs": [
    {
     "data": {
      "text/plain": [
       "3"
      ]
     },
     "execution_count": 14,
     "metadata": {},
     "output_type": "execute_result"
    }
   ],
   "source": [
    "wordlist = ['apple', 'berry', 'kiwi', 'banana','banana','apple','yogurt','lemon','lemon', 'lemon', 'berry', 'berry', 'tomato']\n",
    "wordsRDD = sc.parallelize(wordlist,3)\n",
    "wordsRDD.getNumPartitions()"
   ]
  },
  {
   "cell_type": "code",
   "execution_count": 15,
   "metadata": {},
   "outputs": [],
   "source": [
    "wordPairs = wordsRDD.map(lambda x: (x,1))"
   ]
  },
  {
   "cell_type": "code",
   "execution_count": 16,
   "metadata": {},
   "outputs": [
    {
     "data": {
      "text/plain": [
       "[('apple', 1),\n",
       " ('berry', 1),\n",
       " ('kiwi', 1),\n",
       " ('banana', 1),\n",
       " ('banana', 1),\n",
       " ('apple', 1),\n",
       " ('yogurt', 1),\n",
       " ('lemon', 1),\n",
       " ('lemon', 1),\n",
       " ('lemon', 1),\n",
       " ('berry', 1),\n",
       " ('berry', 1),\n",
       " ('tomato', 1)]"
      ]
     },
     "execution_count": 16,
     "metadata": {},
     "output_type": "execute_result"
    }
   ],
   "source": [
    "wordPairs.collect()"
   ]
  },
  {
   "cell_type": "markdown",
   "metadata": {},
   "source": [
    "## 1) groupByKey"
   ]
  },
  {
   "cell_type": "code",
   "execution_count": 17,
   "metadata": {},
   "outputs": [],
   "source": [
    "wordsGrouped = wordPairs.groupByKey()"
   ]
  },
  {
   "cell_type": "code",
   "execution_count": 18,
   "metadata": {},
   "outputs": [
    {
     "data": {
      "text/plain": [
       "[('tomato', <pyspark.resultiterable.ResultIterable at 0x7fab6da21ed0>),\n",
       " ('berry', <pyspark.resultiterable.ResultIterable at 0x7fab6da21e90>),\n",
       " ('kiwi', <pyspark.resultiterable.ResultIterable at 0x7fab6da21f10>),\n",
       " ('banana', <pyspark.resultiterable.ResultIterable at 0x7fab6d9a5110>),\n",
       " ('yogurt', <pyspark.resultiterable.ResultIterable at 0x7fab6d9fde10>),\n",
       " ('apple', <pyspark.resultiterable.ResultIterable at 0x7fab6d9a5050>),\n",
       " ('lemon', <pyspark.resultiterable.ResultIterable at 0x7fab6d9a5150>)]"
      ]
     },
     "execution_count": 18,
     "metadata": {},
     "output_type": "execute_result"
    }
   ],
   "source": [
    "wordsGrouped.collect()"
   ]
  },
  {
   "cell_type": "code",
   "execution_count": 19,
   "metadata": {},
   "outputs": [],
   "source": [
    "wordsGrouped = wordsGrouped.map(lambda args: (args[0], len(args[1])))"
   ]
  },
  {
   "cell_type": "code",
   "execution_count": 20,
   "metadata": {},
   "outputs": [
    {
     "data": {
      "text/plain": [
       "[('tomato', 1),\n",
       " ('berry', 3),\n",
       " ('kiwi', 1),\n",
       " ('banana', 2),\n",
       " ('yogurt', 1),\n",
       " ('apple', 2),\n",
       " ('lemon', 3)]"
      ]
     },
     "execution_count": 20,
     "metadata": {},
     "output_type": "execute_result"
    }
   ],
   "source": [
    "wordsGrouped.collect()"
   ]
  },
  {
   "cell_type": "markdown",
   "metadata": {},
   "source": [
    "## 2) reduceByKey"
   ]
  },
  {
   "cell_type": "code",
   "execution_count": 22,
   "metadata": {},
   "outputs": [],
   "source": [
    "wordsReduced = wordPairs.reduceByKey(lambda x,y : x+y)"
   ]
  },
  {
   "cell_type": "code",
   "execution_count": 23,
   "metadata": {},
   "outputs": [
    {
     "data": {
      "text/plain": [
       "[('tomato', 1),\n",
       " ('berry', 3),\n",
       " ('kiwi', 1),\n",
       " ('banana', 2),\n",
       " ('yogurt', 1),\n",
       " ('apple', 2),\n",
       " ('lemon', 3)]"
      ]
     },
     "execution_count": 23,
     "metadata": {},
     "output_type": "execute_result"
    }
   ],
   "source": [
    "wordsReduced.collect()"
   ]
  }
 ],
 "metadata": {
  "kernelspec": {
   "display_name": "Python 3",
   "language": "python",
   "name": "python3"
  },
  "language_info": {
   "codemirror_mode": {
    "name": "ipython",
    "version": 3
   },
   "file_extension": ".py",
   "mimetype": "text/x-python",
   "name": "python",
   "nbconvert_exporter": "python",
   "pygments_lexer": "ipython3",
   "version": "3.7.4"
  }
 },
 "nbformat": 4,
 "nbformat_minor": 2
}
